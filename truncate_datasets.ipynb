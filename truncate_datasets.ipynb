{
 "cells": [
  {
   "cell_type": "code",
   "execution_count": 1,
   "metadata": {},
   "outputs": [],
   "source": [
    "from pathlib import Path\n",
    "from qa2nli.qa_readers import race \n",
    "import tqdm\n",
    "from typing import *\n",
    "from joblib import delayed, Parallel\n",
    "import json"
   ]
  },
  {
   "cell_type": "code",
   "execution_count": 14,
   "metadata": {},
   "outputs": [],
   "source": [
    "number_of_examples_to_keep = 100\n",
    "input_path = Path('.data/RACE/set1/nli_train.json')\n",
    "output_path = Path('.data/RACE/test_set1/nli_test.json')"
   ]
  },
  {
   "cell_type": "code",
   "execution_count": 15,
   "metadata": {},
   "outputs": [
    {
     "name": "stdout",
     "output_type": "stream",
     "text": [
      "Input samples 179560\n"
     ]
    }
   ],
   "source": [
    "with open(input_path) as f:\n",
    "    samples = json.load(f)\n",
    "print(f\"Input samples {len(samples)}\")"
   ]
  },
  {
   "cell_type": "code",
   "execution_count": 11,
   "metadata": {},
   "outputs": [
    {
     "name": "stdout",
     "output_type": "stream",
     "text": [
      "Written 100 to .data/RACE/test_set1/nli_test.json\n"
     ]
    }
   ],
   "source": [
    "with open(output_path, 'w') as f:\n",
    "    json.dump(samples[:number_of_examples_to_keep], f)\n",
    "print(f\"Written {number_of_examples_to_keep} to {output_path}\")"
   ]
  },
  {
   "cell_type": "code",
   "execution_count": null,
   "metadata": {},
   "outputs": [],
   "source": []
  }
 ],
 "metadata": {
  "kernelspec": {
   "display_name": "Python 3",
   "language": "python",
   "name": "python3"
  },
  "language_info": {
   "codemirror_mode": {
    "name": "ipython",
    "version": 3
   },
   "file_extension": ".py",
   "mimetype": "text/x-python",
   "name": "python",
   "nbconvert_exporter": "python",
   "pygments_lexer": "ipython3",
   "version": "3.7.2"
  }
 },
 "nbformat": 4,
 "nbformat_minor": 4
}
