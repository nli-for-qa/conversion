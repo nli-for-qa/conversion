{
 "cells": [
  {
   "cell_type": "code",
   "execution_count": 1,
   "metadata": {},
   "outputs": [],
   "source": [
    "from pathlib import Path\n",
    "from qa2nli.qa_readers import race \n",
    "import tqdm\n",
    "from typing import *\n",
    "from joblib import delayed, Parallel\n",
    "import json\n",
    "import random\n",
    "import math"
   ]
  },
  {
   "cell_type": "code",
   "execution_count": 2,
   "metadata": {},
   "outputs": [],
   "source": [
    "number_of_examples_to_keep = 100\n",
    "input_path = Path('.data/RACE/set1/nli_train.json')\n",
    "output_path = Path('.data/RACE/set2/nli_train.json')"
   ]
  },
  {
   "cell_type": "code",
   "execution_count": 3,
   "metadata": {},
   "outputs": [
    {
     "name": "stdout",
     "output_type": "stream",
     "text": [
      "Input samples 179560\n"
     ]
    }
   ],
   "source": [
    "with open(input_path) as f:\n",
    "    samples = json.load(f)\n",
    "print(f\"Input samples {len(samples)}\")"
   ]
  },
  {
   "cell_type": "code",
   "execution_count": 4,
   "metadata": {},
   "outputs": [],
   "source": [
    "pos_samples = [s for s in samples if s['label']==1]"
   ]
  },
  {
   "cell_type": "code",
   "execution_count": 5,
   "metadata": {},
   "outputs": [],
   "source": [
    "neg_samples = [s for s in samples if s['label']==0]"
   ]
  },
  {
   "cell_type": "code",
   "execution_count": 6,
   "metadata": {},
   "outputs": [
    {
     "name": "stdout",
     "output_type": "stream",
     "text": [
      "Positive samples: 44890\n",
      "Negative samples:134670\n",
      "Ratio: 0.3333333333333333\n",
      "Total: 179560\n"
     ]
    }
   ],
   "source": [
    "print(f\"Positive samples: {len(pos_samples)}\\nNegative samples:{len(neg_samples)}\\nRatio: {len(pos_samples)/len(neg_samples)}\\nTotal: {len(pos_samples)+len(neg_samples)}\")"
   ]
  },
  {
   "cell_type": "code",
   "execution_count": 7,
   "metadata": {},
   "outputs": [],
   "source": [
    "random.shuffle(neg_samples)"
   ]
  },
  {
   "cell_type": "code",
   "execution_count": 8,
   "metadata": {},
   "outputs": [],
   "source": [
    "down_sampled_negs = neg_samples[:math.ceil(len(neg_samples)/3)]"
   ]
  },
  {
   "cell_type": "code",
   "execution_count": 9,
   "metadata": {},
   "outputs": [
    {
     "name": "stdout",
     "output_type": "stream",
     "text": [
      "Positive samples: 44890\n",
      "Negative samples:44890\n",
      "Ratio: 1.0\n",
      "Total: 89780\n"
     ]
    }
   ],
   "source": [
    "print(f\"Positive samples: {len(pos_samples)}\\nNegative samples:{len(down_sampled_negs)}\\nRatio: {len(pos_samples)/len(down_sampled_negs)}\\nTotal: {len(pos_samples)+len(down_sampled_negs)}\")"
   ]
  },
  {
   "cell_type": "code",
   "execution_count": 10,
   "metadata": {},
   "outputs": [],
   "source": [
    "output_samples = (pos_samples+down_sampled_negs)\n",
    "random.shuffle(output_samples)"
   ]
  },
  {
   "cell_type": "code",
   "execution_count": 11,
   "metadata": {},
   "outputs": [
    {
     "name": "stdout",
     "output_type": "stream",
     "text": [
      "Written  to .data/RACE/set2/nli_train.json\n"
     ]
    }
   ],
   "source": [
    "with open(output_path, 'w') as f:\n",
    "    json.dump(output_samples, f)\n",
    "print(f\"Written  to {output_path}\")"
   ]
  },
  {
   "cell_type": "code",
   "execution_count": 16,
   "metadata": {},
   "outputs": [],
   "source": [
    "for s in down_sampled_negs:\n",
    "    assert s['label'] == 0"
   ]
  },
  {
   "cell_type": "code",
   "execution_count": null,
   "metadata": {},
   "outputs": [],
   "source": []
  }
 ],
 "metadata": {
  "kernelspec": {
   "display_name": "Python 3",
   "language": "python",
   "name": "python3"
  },
  "language_info": {
   "codemirror_mode": {
    "name": "ipython",
    "version": 3
   },
   "file_extension": ".py",
   "mimetype": "text/x-python",
   "name": "python",
   "nbconvert_exporter": "python",
   "pygments_lexer": "ipython3",
   "version": "3.7.2"
  }
 },
 "nbformat": 4,
 "nbformat_minor": 4
}
