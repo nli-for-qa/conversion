{
 "cells": [
  {
   "cell_type": "code",
   "execution_count": 1,
   "metadata": {},
   "outputs": [],
   "source": [
    "from pathlib import Path\n",
    "from qa2nli.qa_readers import race \n",
    "import tqdm\n",
    "from typing import *\n",
    "from joblib import delayed, Parallel"
   ]
  },
  {
   "cell_type": "code",
   "execution_count": 2,
   "metadata": {},
   "outputs": [],
   "source": [
    "_set = 'test'\n",
    "unfiltered_nli_dataset_path = Path('.data/RACE/converted_{}.json'.format(_set))\n",
    "qa_data_dir = Path('../qa-labeling/RACE/{}'.format(_set))\n",
    "nli_output_path = Path('.data/RACE/set1/nli_{}.json'.format(_set))\n",
    "qa_output_path = Path('.data/RACE/set1/qa_{}.json'.format(_set))"
   ]
  },
  {
   "cell_type": "code",
   "execution_count": 3,
   "metadata": {},
   "outputs": [],
   "source": [
    "def filter_data(nli_dataset: List[Dict], qa_data_dir_path: Path):\n",
    "    nli_successful = []\n",
    "    nli_failed = []\n",
    "    qa_successful = []\n",
    "    qa_successful_ids = []\n",
    "    qa_failed_ids = []\n",
    "    nli_successful_ids = []\n",
    "    nli_failed_ids = []\n",
    "    for nli_sample in tqdm.tqdm(race.read_nli_data(nli_dataset_path)):\n",
    "        if race.conversion_successful(nli_sample):\n",
    "            nli_successful_ids.append(nli_sample['id'])\n",
    "            qa_successful_ids.append(race.get_qa_filename_from_nli_sample(nli_sample))\n",
    "            nli_successful.append(nli_sample)\n",
    "            qa_sample = race.get_matching_qa_sample(nli_sample, qa_data_dir_path)\n",
    "            qa_successful.append(qa_sample)\n",
    "        else:\n",
    "            nli_failed_ids.append(nli_sample['id'])\n",
    "            qa_failed_ids.append(race.get_qa_filename_from_nli_sample(nli_sample))\n",
    "            nli_failed.append(nli_sample)\n",
    "    return {'nli_successful': nli_successful, 'nli_failed': nli_failed, \n",
    "            'qa_successful': qa_successful, 'nli_failed_ids': set(nli_failed_ids), \n",
    "            'nli_successful_ids': set(nli_successful_ids),\n",
    "           'qa_successful_ids': set(qa_successful_ids),\n",
    "           'qa_failed_ids': set(qa_failed_ids)}\n",
    "            "
   ]
  },
  {
   "cell_type": "code",
   "execution_count": 4,
   "metadata": {},
   "outputs": [],
   "source": [
    "def get_succesfully_converted_nli_sample_ids(nli_samples: List[Dict], n_jobs=1):\n",
    "    success = [s['id'] for s in nli_samples if race.conversion_successful(s)]\n",
    "    return success\n",
    "\n",
    "def get_questions_with_all_options_converted(successful):\n",
    "    options = ['A', 'B', 'C', 'D']\n",
    "    all_options_sucessful = set()\n",
    "    for success in successful:\n",
    "        fname, q, opt = success.split('_')\n",
    "        all_options = True\n",
    "        for option in options:\n",
    "            if not '_'.join([fname, q, option]) in successful:\n",
    "                all_options = False\n",
    "        if all_options:\n",
    "            all_options_sucessful.add(success)\n",
    "    return all_options_sucessful\n"
   ]
  },
  {
   "cell_type": "code",
   "execution_count": 5,
   "metadata": {},
   "outputs": [],
   "source": [
    "nli_unfiltered = race.read_nli_data(unfiltered_nli_dataset_path)"
   ]
  },
  {
   "cell_type": "code",
   "execution_count": 6,
   "metadata": {},
   "outputs": [],
   "source": [
    "successful = get_succesfully_converted_nli_sample_ids(nli_unfiltered)"
   ]
  },
  {
   "cell_type": "code",
   "execution_count": 7,
   "metadata": {},
   "outputs": [
    {
     "data": {
      "text/plain": [
       "9900"
      ]
     },
     "execution_count": 7,
     "metadata": {},
     "output_type": "execute_result"
    }
   ],
   "source": [
    "len(successful)"
   ]
  },
  {
   "cell_type": "code",
   "execution_count": 8,
   "metadata": {},
   "outputs": [
    {
     "data": {
      "text/plain": [
       "19736"
      ]
     },
     "execution_count": 8,
     "metadata": {},
     "output_type": "execute_result"
    }
   ],
   "source": [
    "len(nli_unfiltered)"
   ]
  },
  {
   "cell_type": "code",
   "execution_count": 9,
   "metadata": {},
   "outputs": [],
   "source": [
    "all_opts_successful = get_questions_with_all_options_converted(set(successful))"
   ]
  },
  {
   "cell_type": "code",
   "execution_count": 10,
   "metadata": {},
   "outputs": [
    {
     "data": {
      "text/plain": [
       "9892"
      ]
     },
     "execution_count": 10,
     "metadata": {},
     "output_type": "execute_result"
    }
   ],
   "source": [
    "len(all_opts_successful)"
   ]
  },
  {
   "cell_type": "code",
   "execution_count": 11,
   "metadata": {},
   "outputs": [],
   "source": [
    "# drop the options from names ex: high123.txt_1_A\n",
    "questions_with_all_options_converted = set([idx[:-2] for idx in all_opts_successful])"
   ]
  },
  {
   "cell_type": "code",
   "execution_count": 12,
   "metadata": {},
   "outputs": [],
   "source": [
    "with open(Path('.data/RACE/set1/questions_with_all_options_converted_{}.txt'.format(_set)), 'w') as f:\n",
    "    for q in questions_with_all_options_converted:\n",
    "        f.write(q)\n",
    "        f.write('\\n')"
   ]
  },
  {
   "cell_type": "code",
   "execution_count": 13,
   "metadata": {},
   "outputs": [],
   "source": [
    "def get_nli_samples(ids, all_samples):\n",
    "    nli_samples = []\n",
    "    samples_dict = {sample['id']: sample for sample in all_samples}\n",
    "    for idx in ids:\n",
    "        nli_samples.append(samples_dict[idx])\n",
    "    return nli_samples\n",
    "    "
   ]
  },
  {
   "cell_type": "code",
   "execution_count": 14,
   "metadata": {},
   "outputs": [],
   "source": [
    "nli_samples = get_nli_samples(all_opts_successful, nli_unfiltered)"
   ]
  },
  {
   "cell_type": "code",
   "execution_count": 15,
   "metadata": {},
   "outputs": [
    {
     "data": {
      "text/plain": [
       "9892"
      ]
     },
     "execution_count": 15,
     "metadata": {},
     "output_type": "execute_result"
    }
   ],
   "source": [
    "len(nli_samples)"
   ]
  },
  {
   "cell_type": "code",
   "execution_count": 16,
   "metadata": {},
   "outputs": [],
   "source": [
    "with open(nli_output_path, 'w') as f:\n",
    "    json.dump(nli_samples, f)"
   ]
  },
  {
   "cell_type": "code",
   "execution_count": 17,
   "metadata": {},
   "outputs": [],
   "source": [
    "qa_samples = [race.get_qa_sample(qa_id, qa_data_dir) for qa_id in questions_with_all_options_converted]"
   ]
  },
  {
   "cell_type": "code",
   "execution_count": 18,
   "metadata": {},
   "outputs": [],
   "source": [
    "with open(qa_output_path, 'w') as f:\n",
    "    json.dump(qa_samples, f)"
   ]
  },
  {
   "cell_type": "code",
   "execution_count": null,
   "metadata": {},
   "outputs": [],
   "source": []
  }
 ],
 "metadata": {
  "kernelspec": {
   "display_name": "Python 3",
   "language": "python",
   "name": "python3"
  },
  "language_info": {
   "codemirror_mode": {
    "name": "ipython",
    "version": 3
   },
   "file_extension": ".py",
   "mimetype": "text/x-python",
   "name": "python",
   "nbconvert_exporter": "python",
   "pygments_lexer": "ipython3",
   "version": "3.7.2"
  }
 },
 "nbformat": 4,
 "nbformat_minor": 4
}
