{
 "cells": [
  {
   "cell_type": "code",
   "execution_count": 1,
   "metadata": {},
   "outputs": [],
   "source": [
    "from pathlib import Path\n",
    "from qa2nli.qa_readers import race \n",
    "import tqdm\n",
    "from typing import *\n",
    "from joblib import delayed, Parallel\n",
    "import json\n",
    "import random\n",
    "import math\n",
    "import pandas as pd"
   ]
  },
  {
   "cell_type": "code",
   "execution_count": 2,
   "metadata": {},
   "outputs": [],
   "source": [
    "input_path = Path('.data/RACE/set3/dev.json')\n",
    "label_field = 'label'\n",
    "premise_field = 'premise'\n",
    "hypothesis_field = 'hypothesis'"
   ]
  },
  {
   "cell_type": "code",
   "execution_count": 3,
   "metadata": {},
   "outputs": [
    {
     "name": "stdout",
     "output_type": "stream",
     "text": [
      "Input samples 9984\n"
     ]
    }
   ],
   "source": [
    "with open(input_path) as f:\n",
    "    samples = json.load(f)\n",
    "print(f\"Input samples {len(samples)}\")"
   ]
  },
  {
   "cell_type": "code",
   "execution_count": 4,
   "metadata": {},
   "outputs": [],
   "source": [
    "pos_samples = [s for s in samples if s[label_field]==1]"
   ]
  },
  {
   "cell_type": "code",
   "execution_count": 5,
   "metadata": {},
   "outputs": [],
   "source": [
    "neg_samples = [s for s in samples if s[label_field]==0]"
   ]
  },
  {
   "cell_type": "code",
   "execution_count": 6,
   "metadata": {},
   "outputs": [
    {
     "name": "stdout",
     "output_type": "stream",
     "text": [
      "Positive samples: 2496\n",
      "Negative samples:7488\n",
      "Ratio: 0.3333333333333333\n",
      "Total: 9984\n"
     ]
    }
   ],
   "source": [
    "print(f\"Positive samples: {len(pos_samples)}\\nNegative samples:{len(neg_samples)}\\nRatio: {len(pos_samples)/len(neg_samples)}\\nTotal: {len(pos_samples)+len(neg_samples)}\")"
   ]
  },
  {
   "cell_type": "code",
   "execution_count": 7,
   "metadata": {},
   "outputs": [],
   "source": [
    "def get_length(s: str):\n",
    "    tokens = s.split()\n",
    "    return len(tokens)\n",
    "# lengths\n",
    "for ex in samples:\n",
    "    ex[premise_field + '_length'] = get_length(ex[premise_field])\n",
    "    ex[hypothesis_field + '_length'] = get_length(ex[hypothesis_field])"
   ]
  },
  {
   "cell_type": "code",
   "execution_count": 8,
   "metadata": {},
   "outputs": [],
   "source": [
    "df_samples = pd.DataFrame(samples)"
   ]
  },
  {
   "cell_type": "code",
   "execution_count": 9,
   "metadata": {},
   "outputs": [
    {
     "data": {
      "text/html": [
       "<div>\n",
       "<style scoped>\n",
       "    .dataframe tbody tr th:only-of-type {\n",
       "        vertical-align: middle;\n",
       "    }\n",
       "\n",
       "    .dataframe tbody tr th {\n",
       "        vertical-align: top;\n",
       "    }\n",
       "\n",
       "    .dataframe thead th {\n",
       "        text-align: right;\n",
       "    }\n",
       "</style>\n",
       "<table border=\"1\" class=\"dataframe\">\n",
       "  <thead>\n",
       "    <tr style=\"text-align: right;\">\n",
       "      <th></th>\n",
       "      <th>premise_length</th>\n",
       "      <th>hypothesis_length</th>\n",
       "    </tr>\n",
       "  </thead>\n",
       "  <tbody>\n",
       "    <tr>\n",
       "      <th>count</th>\n",
       "      <td>9984.000000</td>\n",
       "      <td>9984.000000</td>\n",
       "    </tr>\n",
       "    <tr>\n",
       "      <th>mean</th>\n",
       "      <td>278.188301</td>\n",
       "      <td>13.251202</td>\n",
       "    </tr>\n",
       "    <tr>\n",
       "      <th>std</th>\n",
       "      <td>90.552125</td>\n",
       "      <td>4.580794</td>\n",
       "    </tr>\n",
       "    <tr>\n",
       "      <th>min</th>\n",
       "      <td>41.000000</td>\n",
       "      <td>2.000000</td>\n",
       "    </tr>\n",
       "    <tr>\n",
       "      <th>25%</th>\n",
       "      <td>229.750000</td>\n",
       "      <td>10.000000</td>\n",
       "    </tr>\n",
       "    <tr>\n",
       "      <th>50%</th>\n",
       "      <td>281.000000</td>\n",
       "      <td>13.000000</td>\n",
       "    </tr>\n",
       "    <tr>\n",
       "      <th>75%</th>\n",
       "      <td>323.250000</td>\n",
       "      <td>16.000000</td>\n",
       "    </tr>\n",
       "    <tr>\n",
       "      <th>max</th>\n",
       "      <td>868.000000</td>\n",
       "      <td>39.000000</td>\n",
       "    </tr>\n",
       "  </tbody>\n",
       "</table>\n",
       "</div>"
      ],
      "text/plain": [
       "       premise_length  hypothesis_length\n",
       "count     9984.000000        9984.000000\n",
       "mean       278.188301          13.251202\n",
       "std         90.552125           4.580794\n",
       "min         41.000000           2.000000\n",
       "25%        229.750000          10.000000\n",
       "50%        281.000000          13.000000\n",
       "75%        323.250000          16.000000\n",
       "max        868.000000          39.000000"
      ]
     },
     "execution_count": 9,
     "metadata": {},
     "output_type": "execute_result"
    }
   ],
   "source": [
    "df_samples.describe()"
   ]
  },
  {
   "cell_type": "code",
   "execution_count": 10,
   "metadata": {},
   "outputs": [
    {
     "data": {
      "text/plain": [
       "label                   1.0\n",
       "valid_question          1.0\n",
       "valid_option            1.0\n",
       "conversion_success      1.0\n",
       "exception               0.0\n",
       "premise_length        369.0\n",
       "hypothesis_length      19.0\n",
       "Name: 0.9, dtype: float64"
      ]
     },
     "execution_count": 10,
     "metadata": {},
     "output_type": "execute_result"
    }
   ],
   "source": [
    "df_samples.quantile(0.9)"
   ]
  },
  {
   "cell_type": "code",
   "execution_count": 11,
   "metadata": {},
   "outputs": [
    {
     "data": {
      "text/plain": [
       "array([[<matplotlib.axes._subplots.AxesSubplot object at 0x11dd78550>,\n",
       "        <matplotlib.axes._subplots.AxesSubplot object at 0x120c9e710>]],\n",
       "      dtype=object)"
      ]
     },
     "execution_count": 11,
     "metadata": {},
     "output_type": "execute_result"
    },
    {
     "data": {
      "image/png": "[encoded data removed]",
      "text/plain": [
       "<Figure size 432x288 with 2 Axes>"
      ]
     },
     "metadata": {
      "needs_background": "light"
     },
     "output_type": "display_data"
    }
   ],
   "source": [
    "df_samples.hist(bins=100,column=['premise_length', 'hypothesis_length'])"
   ]
  },
  {
   "cell_type": "code",
   "execution_count": 12,
   "metadata": {},
   "outputs": [
    {
     "name": "stdout",
     "output_type": "stream",
     "text": [
      "Hypothesis has 'following': 83\n",
      "question has 'following': 83\n",
      "20.75\n"
     ]
    }
   ],
   "source": [
    "# How many hypothesis have \"following\" in them? \n",
    "has_following = [s for s in samples if 'following' in s[hypothesis_field].lower()]\n",
    "question_has_following = [s for s in samples if 'following' in s[hypothesis_field].lower()]\n",
    "print(f\"Hypothesis has 'following': {len(has_following)}\") \n",
    "print(f\"question has 'following': {len(question_has_following)}\")        \n",
    "print(len(has_following)/4)"
   ]
  },
  {
   "cell_type": "code",
   "execution_count": 13,
   "metadata": {},
   "outputs": [
    {
     "name": "stdout",
     "output_type": "stream",
     "text": [
      "Fraction of samples having 'following' 0.008313301282051282\n"
     ]
    }
   ],
   "source": [
    "print(f\"Fraction of samples having 'following' {len(has_following)/(len(pos_samples)+len(neg_samples))}\")"
   ]
  },
  {
   "cell_type": "code",
   "execution_count": 14,
   "metadata": {},
   "outputs": [
    {
     "data": {
      "text/plain": [
       "{'id': 'high13577.txt_2_A',\n",
       " 'premise': 'Now scientists believe that global warming affects hibernating animals, causing them to wake up earlier. While this may seem a little concern, it is in fact a serious environmental problem. The shortened hibernation period could actually lead to significant decreases in the population of several species.\\nSome of the first evidence of the problem came from Colorado, where researchers at the Rocky Mountain Biological Lab have been observing marmot   hibernation behavior since the 1970s. In the early days of their studies, marmots generally hibernated several weeks into the month of May. Nowadays, however, temperatures in the area have risen by 2.5 degrees Fahrenheit, and the marmots wake up about a month earlier.\\nAt least the marmots are still hibernating. Several other animals have not been hibernating at all recently. Brown bears in the Spanish Cantabrian Mountains did not hibernate last year. Chipmunks   in the US and some snakes in Australia also skipped the hibernation period. The bears seem to have survived without losing many individuals. The chipmunks and snakes, however, were not so lucky. Many of the animals died of starvation during the winter.\\nThe problem with animals waking up early, or skipping hibernation altogether, lies with the creatures\\' metabolism  . When the animals hibernate, their metabolism drops significantly. The animals\\' heart rate slows, and they require very little energy to live. When the animals awake in the spring, their metabolism returns to normal.\\nBut while their metabolism may be as active as it was before hibernation, food sources aren\\'t as available as they were before. A marmot may wake up when temperatures get warmer, thinking it\\'s spring, but plants will not have got the amount of sun they need to grow. So until the plants grow, the marmots have no reliable food source.\\nMany scientists believe the problem will continue to get worse. For many biologists, that\\'s a scary prospect. Terry Root, an animal expert at Stanford University, said, \"I do think what we will be facing is the extinction of many species.\"',\n",
       " 'question': 'Judging from recent observation, which of the following animals suffered the LEAST from shortened hibernation?',\n",
       " 'option': 'Brown bears.',\n",
       " 'label': True,\n",
       " 'valid_question': True,\n",
       " 'valid_option': True,\n",
       " 'conversion_success': True,\n",
       " 'exception': False,\n",
       " 'hypothesis': 'Judging from recent observation, Brown bears the following animals suffered the LEAST from shortened hibernation.',\n",
       " 'premise_length': 334,\n",
       " 'hypothesis_length': 15}"
      ]
     },
     "execution_count": 14,
     "metadata": {},
     "output_type": "execute_result"
    }
   ],
   "source": [
    "has_following[10]"
   ]
  },
  {
   "cell_type": "code",
   "execution_count": 15,
   "metadata": {},
   "outputs": [],
   "source": [
    "#with open('test_has_following.json', 'w') as f:\n",
    "#    json.dump(has_following,f)"
   ]
  },
  {
   "cell_type": "code",
   "execution_count": 16,
   "metadata": {},
   "outputs": [
    {
     "name": "stdout",
     "output_type": "stream",
     "text": [
      "Hypothesis has '_': 926\n",
      "question has '_': 926\n"
     ]
    }
   ],
   "source": [
    "# How many hypothesis have \"_\" in them? \n",
    "has_blank = [s for s in samples if '_' in s[hypothesis_field].lower()]\n",
    "question_has_blank = [s for s in samples if '_' in s[hypothesis_field].lower()]\n",
    "print(f\"Hypothesis has '_': {len(has_blank)}\") \n",
    "print(f\"question has '_': {len(question_has_blank)}\")        "
   ]
  },
  {
   "cell_type": "code",
   "execution_count": 17,
   "metadata": {},
   "outputs": [
    {
     "name": "stdout",
     "output_type": "stream",
     "text": [
      "Fraction of samples having '_' 0.09274839743589744\n"
     ]
    }
   ],
   "source": [
    "print(f\"Fraction of samples having '_' {len(has_blank)/(len(pos_samples)+len(neg_samples))}\")"
   ]
  },
  {
   "cell_type": "code",
   "execution_count": 18,
   "metadata": {},
   "outputs": [
    {
     "name": "stdout",
     "output_type": "stream",
     "text": [
      "Common: 28\n"
     ]
    }
   ],
   "source": [
    "following_ids = set([s['id'] for s in has_following])\n",
    "blank_ids = set([s['id'] for s in has_blank])\n",
    "common_ids = following_ids.intersection(blank_ids)\n",
    "print(f\"Common: {len(common_ids)}\")"
   ]
  },
  {
   "cell_type": "code",
   "execution_count": null,
   "metadata": {},
   "outputs": [],
   "source": []
  }
 ],
 "metadata": {
  "kernelspec": {
   "display_name": "Python 3",
   "language": "python",
   "name": "python3"
  },
  "language_info": {
   "codemirror_mode": {
    "name": "ipython",
    "version": 3
   },
   "file_extension": ".py",
   "mimetype": "text/x-python",
   "name": "python",
   "nbconvert_exporter": "python",
   "pygments_lexer": "ipython3",
   "version": "3.7.2"
  }
 },
 "nbformat": 4,
 "nbformat_minor": 4
}
