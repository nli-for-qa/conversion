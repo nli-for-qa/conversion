{
 "cells": [
  {
   "cell_type": "code",
   "execution_count": 1,
   "metadata": {},
   "outputs": [],
   "source": [
    "from pathlib import Path\n",
    "from qa2nli.qa_readers import race \n",
    "import tqdm\n",
    "from typing import *\n",
    "from joblib import delayed, Parallel\n",
    "import json\n",
    "import random\n",
    "import math\n",
    "import pandas as pd"
   ]
  },
  {
   "cell_type": "code",
   "execution_count": 2,
   "metadata": {},
   "outputs": [],
   "source": [
    "number_of_examples_to_keep = 100\n",
    "input_path = Path('.data/RACE/set1/nli_train.json')\n",
    "label_field = 'label'\n",
    "premise_field = 'premise'\n",
    "hypothesis_field = 'hypothesis'"
   ]
  },
  {
   "cell_type": "code",
   "execution_count": 3,
   "metadata": {},
   "outputs": [
    {
     "name": "stdout",
     "output_type": "stream",
     "text": [
      "Input samples 179560\n"
     ]
    }
   ],
   "source": [
    "with open(input_path) as f:\n",
    "    samples = json.load(f)\n",
    "print(f\"Input samples {len(samples)}\")"
   ]
  },
  {
   "cell_type": "code",
   "execution_count": 4,
   "metadata": {},
   "outputs": [],
   "source": [
    "pos_samples = [s for s in samples if s[label_field]==1]"
   ]
  },
  {
   "cell_type": "code",
   "execution_count": 5,
   "metadata": {},
   "outputs": [],
   "source": [
    "neg_samples = [s for s in samples if s[label_field]==0]"
   ]
  },
  {
   "cell_type": "code",
   "execution_count": 6,
   "metadata": {},
   "outputs": [
    {
     "name": "stdout",
     "output_type": "stream",
     "text": [
      "Positive samples: 44890\n",
      "Negative samples:134670\n",
      "Ratio: 0.3333333333333333\n",
      "Total: 179560\n"
     ]
    }
   ],
   "source": [
    "print(f\"Positive samples: {len(pos_samples)}\\nNegative samples:{len(neg_samples)}\\nRatio: {len(pos_samples)/len(neg_samples)}\\nTotal: {len(pos_samples)+len(neg_samples)}\")"
   ]
  },
  {
   "cell_type": "code",
   "execution_count": 7,
   "metadata": {},
   "outputs": [],
   "source": [
    "def get_length(s: str):\n",
    "    tokens = s.split()\n",
    "    return len(tokens)\n",
    "# lengths\n",
    "for ex in samples:\n",
    "    ex[premise_field + '_length'] = get_length(ex[premise_field])\n",
    "    ex[hypothesis_field + '_length'] = get_length(ex[hypothesis_field])"
   ]
  },
  {
   "cell_type": "code",
   "execution_count": 8,
   "metadata": {},
   "outputs": [],
   "source": [
    "df_samples = pd.DataFrame(samples)"
   ]
  },
  {
   "cell_type": "code",
   "execution_count": 9,
   "metadata": {},
   "outputs": [
    {
     "data": {
      "text/html": [
       "<div>\n",
       "<style scoped>\n",
       "    .dataframe tbody tr th:only-of-type {\n",
       "        vertical-align: middle;\n",
       "    }\n",
       "\n",
       "    .dataframe tbody tr th {\n",
       "        vertical-align: top;\n",
       "    }\n",
       "\n",
       "    .dataframe thead th {\n",
       "        text-align: right;\n",
       "    }\n",
       "</style>\n",
       "<table border=\"1\" class=\"dataframe\">\n",
       "  <thead>\n",
       "    <tr style=\"text-align: right;\">\n",
       "      <th></th>\n",
       "      <th>premise_length</th>\n",
       "      <th>hypothesis_length</th>\n",
       "    </tr>\n",
       "  </thead>\n",
       "  <tbody>\n",
       "    <tr>\n",
       "      <th>count</th>\n",
       "      <td>179560.000000</td>\n",
       "      <td>179560.000000</td>\n",
       "    </tr>\n",
       "    <tr>\n",
       "      <th>mean</th>\n",
       "      <td>282.702963</td>\n",
       "      <td>13.950891</td>\n",
       "    </tr>\n",
       "    <tr>\n",
       "      <th>std</th>\n",
       "      <td>97.016034</td>\n",
       "      <td>4.774177</td>\n",
       "    </tr>\n",
       "    <tr>\n",
       "      <th>min</th>\n",
       "      <td>2.000000</td>\n",
       "      <td>2.000000</td>\n",
       "    </tr>\n",
       "    <tr>\n",
       "      <th>25%</th>\n",
       "      <td>228.000000</td>\n",
       "      <td>11.000000</td>\n",
       "    </tr>\n",
       "    <tr>\n",
       "      <th>50%</th>\n",
       "      <td>285.000000</td>\n",
       "      <td>14.000000</td>\n",
       "    </tr>\n",
       "    <tr>\n",
       "      <th>75%</th>\n",
       "      <td>330.000000</td>\n",
       "      <td>17.000000</td>\n",
       "    </tr>\n",
       "    <tr>\n",
       "      <th>max</th>\n",
       "      <td>1162.000000</td>\n",
       "      <td>50.000000</td>\n",
       "    </tr>\n",
       "  </tbody>\n",
       "</table>\n",
       "</div>"
      ],
      "text/plain": [
       "       premise_length  hypothesis_length\n",
       "count   179560.000000      179560.000000\n",
       "mean       282.702963          13.950891\n",
       "std         97.016034           4.774177\n",
       "min          2.000000           2.000000\n",
       "25%        228.000000          11.000000\n",
       "50%        285.000000          14.000000\n",
       "75%        330.000000          17.000000\n",
       "max       1162.000000          50.000000"
      ]
     },
     "execution_count": 9,
     "metadata": {},
     "output_type": "execute_result"
    }
   ],
   "source": [
    "df_samples.describe()"
   ]
  },
  {
   "cell_type": "code",
   "execution_count": 10,
   "metadata": {},
   "outputs": [
    {
     "data": {
      "text/plain": [
       "label                   1.0\n",
       "valid_question          1.0\n",
       "valid_option            1.0\n",
       "conversion_success      1.0\n",
       "exception               0.0\n",
       "premise_length        378.0\n",
       "hypothesis_length      20.0\n",
       "Name: 0.9, dtype: float64"
      ]
     },
     "execution_count": 10,
     "metadata": {},
     "output_type": "execute_result"
    }
   ],
   "source": [
    "df_samples.quantile(0.9)"
   ]
  },
  {
   "cell_type": "code",
   "execution_count": 11,
   "metadata": {},
   "outputs": [
    {
     "data": {
      "text/plain": [
       "array([[<matplotlib.axes._subplots.AxesSubplot object at 0x1055ba940>,\n",
       "        <matplotlib.axes._subplots.AxesSubplot object at 0x111a11710>]],\n",
       "      dtype=object)"
      ]
     },
     "execution_count": 11,
     "metadata": {},
     "output_type": "execute_result"
    },
    {
     "data": {
      "image/png": "[encoded data removed]",
      "text/plain": [
       "<Figure size 432x288 with 2 Axes>"
      ]
     },
     "metadata": {
      "needs_background": "light"
     },
     "output_type": "display_data"
    }
   ],
   "source": [
    "df_samples.hist(bins=100,column=['premise_length', 'hypothesis_length'])"
   ]
  },
  {
   "cell_type": "code",
   "execution_count": 12,
   "metadata": {},
   "outputs": [
    {
     "name": "stdout",
     "output_type": "stream",
     "text": [
      "Hypothesis has 'following': 36743\n",
      "question has 'following': 36743\n",
      "9185.75\n"
     ]
    }
   ],
   "source": [
    "# How many hypothesis have \"following\" in them? \n",
    "has_following = [s for s in samples if 'following' in s[hypothesis_field].lower()]\n",
    "question_has_following = [s for s in samples if 'following' in s[hypothesis_field].lower()]\n",
    "print(f\"Hypothesis has 'following': {len(has_following)}\") \n",
    "print(f\"question has 'following': {len(question_has_following)}\")        \n",
    "print(len(has_following)/4)"
   ]
  },
  {
   "cell_type": "code",
   "execution_count": 13,
   "metadata": {},
   "outputs": [
    {
     "name": "stdout",
     "output_type": "stream",
     "text": [
      "Fraction of samples having 'following' 0.20462797950545777\n"
     ]
    }
   ],
   "source": [
    "print(f\"Fraction of samples having 'following' {len(has_following)/(len(pos_samples)+len(neg_samples))}\")"
   ]
  },
  {
   "cell_type": "code",
   "execution_count": 14,
   "metadata": {},
   "outputs": [
    {
     "data": {
      "text/plain": [
       "{'id': 'high23054.txt_2_C',\n",
       " 'premise': 'Have you ever had a troubling problem that has left you wondering where to turn for help?\\n         Eve Hobsbawm is a life adviser.She offers advice to people struggling with all kinds of problems, from relationship difficulties to what to cook for dinner.\\n         She does this through a website inviting people to email her with their problems.There \\' s nothing unusual about that, except for the fact that Eve is only eight years old.\\nThis junior trouble-shooter, who also goes by the name \\'Miss Evie Mouse\\' , lives in London with her parents.Not only is Miss Mouse willing to lend an ear to her clients, she will also offer them a helping hand, for a fee of course.She charges between 10p for advice on little, everyday worries and PS for more complicated problems.Her areas of expert knowledge, if not of experience, are problems about love, life and work-life balance.\\n         A problem shared is a problem halved, but Eve can\\' t always help.A note on the site states that she can\\'t answer questions like \"Does space ever end?\" and she won\\'t solve schoolwork-related problems, especially not maths.\\n         She explained to the Guardian newspaper that she was inspired to set up the company by her father who runs a tech start-up.Eve said, \"As soon as I saw his business and understood the kinds of things businesses do, I thought that\\' s what I\\' m going to do.\"\\n         But since setting up her company in December she has been so overwhelmed with messages that she has had to take a step back.\"There has been a lot of sudden interest in my site, which is nice,\" she says, \" but I need to do my homework too, so I won\\' t be solving any more problems for a bit.\"',\n",
       " 'question': 'Which of the following can best describe Eve?',\n",
       " 'option': 'She has a natural talent for business.',\n",
       " 'label': True,\n",
       " 'valid_question': True,\n",
       " 'valid_option': True,\n",
       " 'conversion_success': True,\n",
       " 'exception': False,\n",
       " 'hypothesis': 'She has a natural talent for business following can best describe Eve.',\n",
       " 'premise_length': 294,\n",
       " 'hypothesis_length': 12}"
      ]
     },
     "execution_count": 14,
     "metadata": {},
     "output_type": "execute_result"
    }
   ],
   "source": [
    "has_following[10]"
   ]
  },
  {
   "cell_type": "code",
   "execution_count": 15,
   "metadata": {},
   "outputs": [],
   "source": [
    "with open('train_has_following.json', 'w') as f:\n",
    "    json.dump(has_following,f)"
   ]
  },
  {
   "cell_type": "code",
   "execution_count": 16,
   "metadata": {},
   "outputs": [
    {
     "name": "stdout",
     "output_type": "stream",
     "text": [
      "Hypothesis has '_': 17530\n",
      "question has '_': 17530\n"
     ]
    }
   ],
   "source": [
    "# How many hypothesis have \"_\" in them? \n",
    "has_blank = [s for s in samples if '_' in s[hypothesis_field].lower()]\n",
    "question_has_blank = [s for s in samples if '_' in s[hypothesis_field].lower()]\n",
    "print(f\"Hypothesis has '_': {len(has_blank)}\") \n",
    "print(f\"question has '_': {len(question_has_blank)}\")        "
   ]
  },
  {
   "cell_type": "code",
   "execution_count": 17,
   "metadata": {},
   "outputs": [
    {
     "name": "stdout",
     "output_type": "stream",
     "text": [
      "Fraction of samples having '_' 0.09762753397193139\n"
     ]
    }
   ],
   "source": [
    "print(f\"Fraction of samples having '_' {len(has_blank)/(len(pos_samples)+len(neg_samples))}\")"
   ]
  },
  {
   "cell_type": "code",
   "execution_count": 18,
   "metadata": {},
   "outputs": [
    {
     "name": "stdout",
     "output_type": "stream",
     "text": [
      "Common: 596\n"
     ]
    }
   ],
   "source": [
    "following_ids = set([s['id'] for s in has_following])\n",
    "blank_ids = set([s['id'] for s in has_blank])\n",
    "common_ids = following_ids.intersection(blank_ids)\n",
    "print(f\"Common: {len(common_ids)}\")"
   ]
  },
  {
   "cell_type": "code",
   "execution_count": null,
   "metadata": {},
   "outputs": [],
   "source": []
  }
 ],
 "metadata": {
  "kernelspec": {
   "display_name": "Python 3",
   "language": "python",
   "name": "python3"
  },
  "language_info": {
   "codemirror_mode": {
    "name": "ipython",
    "version": 3
   },
   "file_extension": ".py",
   "mimetype": "text/x-python",
   "name": "python",
   "nbconvert_exporter": "python",
   "pygments_lexer": "ipython3",
   "version": "3.7.2"
  }
 },
 "nbformat": 4,
 "nbformat_minor": 4
}
