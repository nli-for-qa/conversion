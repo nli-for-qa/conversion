{
 "cells": [
  {
   "cell_type": "code",
   "execution_count": 1,
   "metadata": {},
   "outputs": [],
   "source": [
    "from spacy_stanfordnlp import StanfordNLPLanguage\n",
    "import stanfordnlp\n",
    "from copy import deepcopy\n",
    "from spacy_conll import ConllFormatter\n",
    "from pathlib import Path\n",
    "from qa2nli.qa_readers.race import read_data as race_read_data\n",
    "from qa2nli.qa_readers.race import process_samples_lazy\n",
    "from rule import Question, AnswerSpan\n",
    "from conllu import parse\n",
    "from sacremoses import MosesTokenizer, MosesDetokenizer\n",
    "import tqdm\n",
    "import multiprocessing as mp\n",
    "from typing import *"
   ]
  },
  {
   "cell_type": "code",
   "execution_count": 2,
   "metadata": {},
   "outputs": [],
   "source": [
    "#stanfordnlp.download('en')\n",
    "# Config\n",
    "data_path = Path('../qa-labeling/RACE/dev')\n",
    "output_path = Path('.data/RACE/converted_dev.json')"
   ]
  },
  {
   "cell_type": "code",
   "execution_count": 3,
   "metadata": {},
   "outputs": [
    {
     "name": "stdout",
     "output_type": "stream",
     "text": [
      "Use device: cpu\n",
      "---\n",
      "Loading: tokenize\n",
      "With settings: \n",
      "{'model_path': '/Users/dhruv/stanfordnlp_resources/en_ewt_models/en_ewt_tokenizer.pt', 'lang': 'en', 'shorthand': 'en_ewt', 'mode': 'predict'}\n",
      "---\n",
      "Loading: pos\n",
      "With settings: \n",
      "{'model_path': '/Users/dhruv/stanfordnlp_resources/en_ewt_models/en_ewt_tagger.pt', 'pretrain_path': '/Users/dhruv/stanfordnlp_resources/en_ewt_models/en_ewt.pretrain.pt', 'lang': 'en', 'shorthand': 'en_ewt', 'mode': 'predict'}\n",
      "---\n",
      "Loading: lemma\n",
      "With settings: \n",
      "{'model_path': '/Users/dhruv/stanfordnlp_resources/en_ewt_models/en_ewt_lemmatizer.pt', 'lang': 'en', 'shorthand': 'en_ewt', 'mode': 'predict'}\n",
      "Building an attentional Seq2Seq model...\n",
      "Using a Bi-LSTM encoder\n",
      "Using soft attention for LSTM.\n",
      "Finetune all embeddings.\n",
      "[Running seq2seq lemmatizer with edit classifier]\n",
      "---\n",
      "Loading: depparse\n",
      "With settings: \n",
      "{'model_path': '/Users/dhruv/stanfordnlp_resources/en_ewt_models/en_ewt_parser.pt', 'pretrain_path': '/Users/dhruv/stanfordnlp_resources/en_ewt_models/en_ewt.pretrain.pt', 'lang': 'en', 'shorthand': 'en_ewt', 'mode': 'predict'}\n",
      "Done loading processors!\n",
      "---\n"
     ]
    }
   ],
   "source": [
    "snlp = stanfordnlp.Pipeline(lang='en')\n",
    "nlp = StanfordNLPLanguage(snlp)\n",
    "conllformatter = ConllFormatter(nlp)\n",
    "nlp.add_pipe(conllformatter, last=True)\n",
    "detokenizer = MosesDetokenizer()"
   ]
  },
  {
   "cell_type": "code",
   "execution_count": 9,
   "metadata": {},
   "outputs": [
    {
     "name": "stdout",
     "output_type": "stream",
     "text": [
      "Read 1020 files from /Users/dhruv/UnsyncedDocuments/IBM_project/qa-to-nli/../qa-labeling/RACE/dev/high\n",
      "Read 367 files from /Users/dhruv/UnsyncedDocuments/IBM_project/qa-to-nli/../qa-labeling/RACE/dev/middle\n"
     ]
    }
   ],
   "source": [
    "# load data\n",
    "qa_samples = race_read_data(data_path, qa_only=False)\n",
    "num_processed_samples = 4*len(qa_samples)\n",
    "processed_samples = process_samples_lazy(qa_samples)"
   ]
  },
  {
   "cell_type": "code",
   "execution_count": 10,
   "metadata": {},
   "outputs": [],
   "source": [
    "import warnings\n",
    "warnings.filterwarnings(\"ignore\")\n",
    "def convert(qa_samples: List[Dict]):\n",
    "    total_questions=0\n",
    "    num_converted_questions = 0\n",
    "    num_nli_samples = 0\n",
    "    invalid_questions = 0\n",
    "    invalid_options = 0 \n",
    "    failed_questions = []\n",
    "    nli_samples = []\n",
    "    failed_cases = []\n",
    "    for qa_sample in tqdm.tqdm(qa_samples):\n",
    "        total_questions+=1\n",
    "        q_doc = nlp(qa_sample['question'])\n",
    "        a_doc = nlp(qa_sample['answer'])\n",
    "        q_conll_dict = parse(q_doc._.conll_str)[0].tokens\n",
    "        a_conll_dict = parse(a_doc._.conll_str)[0].tokens\n",
    "        positive_sample = {}\n",
    "        q = Question(deepcopy(q_conll_dict))\n",
    "        if not q.isvalid:\n",
    "            invalid_questions+=1\n",
    "            failed_cases.append(qa_sample['id'])\n",
    "            continue\n",
    "        a = AnswerSpan(a_conll_dict)\n",
    "        if not a.isvalid:\n",
    "            failed_cases.append(qa_sample['id'] + '_1')\n",
    "            invalid_options+=1\n",
    "        else:\n",
    "            q.insert_answer_default(a)\n",
    "            hypo = detokenizer.detokenize(q.format_declr(), return_str=True)\n",
    "            positive_sample['premise'] = qa_sample['article']\n",
    "            positive_sample['hypothesis'] = hypo\n",
    "            positive_sample['label'] = 1\n",
    "            positive_sample['id'] = qa_sample['id'] + '_1'\n",
    "        if positive_sample:\n",
    "            nli_samples.append(positive_sample)\n",
    "        for i, opt in enumerate(qa_sample['other_options']):\n",
    "            q = Question(deepcopy(q_conll_dict))\n",
    "            o_conll_dict = parse(nlp(opt)._.conll_str)[0].tokens\n",
    "            o = AnswerSpan(o_conll_dict)\n",
    "            negative_sample = {}\n",
    "            if not o.isvalid:\n",
    "                invalid_options+=1\n",
    "                failed_cases.append(qa_sample['id'] + '_' + str(i+1))\n",
    "                continue\n",
    "            else:\n",
    "                q.insert_answer_default(o)\n",
    "                negative_sample['premise'] = qa_sample['article']\n",
    "                negative_sample['hypothesis'] = detokenizer.detokenize(q.format_declr(), return_str=True)\n",
    "                negative_sample['label'] = 0\n",
    "                negative_sample['id'] = qa_sample['id'] + '_' + str(i+1)\n",
    "            if negative_sample:\n",
    "                nli_samples.append(negative_sample)\n",
    "        num_converted_questions+=1\n",
    "        return {'nli_samples': nli_samples, 'failed_questions': failed_questions, 'total_questions': total_questions,\n",
    "               'failed_cases': failed_cases}\n",
    "\n",
    "\n"
   ]
  },
  {
   "cell_type": "code",
   "execution_count": 11,
   "metadata": {},
   "outputs": [],
   "source": [
    "def convert2(qa_sample: Dict):\n",
    "    q_doc = nlp(qa_sample['question'])\n",
    "    a_doc = nlp(qa_sample['option'])\n",
    "    q_conll_dict = parse(q_doc._.conll_str)[0].tokens\n",
    "    a_conll_dict = parse(a_doc._.conll_str)[0].tokens\n",
    "    qa_sample.update({'valid_question': False, 'valid_option': False, 'conversion_success': False})\n",
    "    q = Question(deepcopy(q_conll_dict))\n",
    "    if not q.isvalid:\n",
    "        qa_sample['hypothesis'] = \"\"\n",
    "        return qa_sample\n",
    "    else:\n",
    "        qa_sample['valid_question'] = True\n",
    "    a = AnswerSpan(a_conll_dict)\n",
    "    if not a.isvalid:\n",
    "        qa_sample['hypothesis'] = \"\"\n",
    "        return qa_sample\n",
    "    else:\n",
    "        q.insert_answer_default(a)\n",
    "        qa_sample['hypothesis'] = detokenizer.detokenize(q.format_declr(), return_str=True)\n",
    "    return qa_sample"
   ]
  },
  {
   "cell_type": "code",
   "execution_count": 13,
   "metadata": {},
   "outputs": [
    {
     "name": "stderr",
     "output_type": "stream",
     "text": [
      "  4%|▍         | 850/19548 [01:16<27:58, 11.14it/s] Process ForkPoolWorker-10:\n",
      "\n"
     ]
    },
    {
     "ename": "KeyboardInterrupt",
     "evalue": "",
     "output_type": "error",
     "traceback": [
      "\u001b[0;31m---------------------------------------------------------------------------\u001b[0m",
      "\u001b[0;31mIndexError\u001b[0m                                Traceback (most recent call last)",
      "\u001b[0;32m/Library/Frameworks/Python.framework/Versions/3.7/lib/python3.7/multiprocessing/pool.py\u001b[0m in \u001b[0;36mnext\u001b[0;34m(self, timeout)\u001b[0m\n\u001b[1;32m    732\u001b[0m             \u001b[0;32mtry\u001b[0m\u001b[0;34m:\u001b[0m\u001b[0;34m\u001b[0m\u001b[0;34m\u001b[0m\u001b[0m\n\u001b[0;32m--> 733\u001b[0;31m                 \u001b[0mitem\u001b[0m \u001b[0;34m=\u001b[0m \u001b[0mself\u001b[0m\u001b[0;34m.\u001b[0m\u001b[0m_items\u001b[0m\u001b[0;34m.\u001b[0m\u001b[0mpopleft\u001b[0m\u001b[0;34m(\u001b[0m\u001b[0;34m)\u001b[0m\u001b[0;34m\u001b[0m\u001b[0;34m\u001b[0m\u001b[0m\n\u001b[0m\u001b[1;32m    734\u001b[0m             \u001b[0;32mexcept\u001b[0m \u001b[0mIndexError\u001b[0m\u001b[0;34m:\u001b[0m\u001b[0;34m\u001b[0m\u001b[0;34m\u001b[0m\u001b[0m\n",
      "\u001b[0;31mIndexError\u001b[0m: pop from an empty deque",
      "\nDuring handling of the above exception, another exception occurred:\n",
      "\u001b[0;31mKeyboardInterrupt\u001b[0m                         Traceback (most recent call last)",
      "\u001b[0;32m<ipython-input-13-1063e5be4b74>\u001b[0m in \u001b[0;36m<module>\u001b[0;34m\u001b[0m\n\u001b[1;32m      1\u001b[0m \u001b[0;32mwith\u001b[0m \u001b[0mmp\u001b[0m\u001b[0;34m.\u001b[0m\u001b[0mPool\u001b[0m\u001b[0;34m(\u001b[0m\u001b[0mprocesses\u001b[0m\u001b[0;34m=\u001b[0m\u001b[0;36m3\u001b[0m\u001b[0;34m)\u001b[0m \u001b[0;32mas\u001b[0m \u001b[0mp\u001b[0m\u001b[0;34m:\u001b[0m\u001b[0;34m\u001b[0m\u001b[0;34m\u001b[0m\u001b[0m\n\u001b[1;32m      2\u001b[0m         \u001b[0;32mwith\u001b[0m \u001b[0mtqdm\u001b[0m\u001b[0;34m.\u001b[0m\u001b[0mtqdm\u001b[0m\u001b[0;34m(\u001b[0m\u001b[0mtotal\u001b[0m\u001b[0;34m=\u001b[0m\u001b[0mnum_processed_samples\u001b[0m\u001b[0;34m)\u001b[0m \u001b[0;32mas\u001b[0m \u001b[0mpbar\u001b[0m\u001b[0;34m:\u001b[0m\u001b[0;34m\u001b[0m\u001b[0;34m\u001b[0m\u001b[0m\n\u001b[0;32m----> 3\u001b[0;31m             \u001b[0;32mfor\u001b[0m \u001b[0mi\u001b[0m\u001b[0;34m,\u001b[0m \u001b[0m_\u001b[0m \u001b[0;32min\u001b[0m \u001b[0menumerate\u001b[0m\u001b[0;34m(\u001b[0m\u001b[0mp\u001b[0m\u001b[0;34m.\u001b[0m\u001b[0mimap_unordered\u001b[0m\u001b[0;34m(\u001b[0m\u001b[0mconvert2\u001b[0m\u001b[0;34m,\u001b[0m \u001b[0mprocessed_samples\u001b[0m\u001b[0;34m)\u001b[0m\u001b[0;34m)\u001b[0m\u001b[0;34m:\u001b[0m\u001b[0;34m\u001b[0m\u001b[0;34m\u001b[0m\u001b[0m\n\u001b[0m\u001b[1;32m      4\u001b[0m                 \u001b[0mpbar\u001b[0m\u001b[0;34m.\u001b[0m\u001b[0mupdate\u001b[0m\u001b[0;34m(\u001b[0m\u001b[0;34m)\u001b[0m\u001b[0;34m\u001b[0m\u001b[0;34m\u001b[0m\u001b[0m\n",
      "\u001b[0;32m/Library/Frameworks/Python.framework/Versions/3.7/lib/python3.7/multiprocessing/pool.py\u001b[0m in \u001b[0;36mnext\u001b[0;34m(self, timeout)\u001b[0m\n\u001b[1;32m    735\u001b[0m                 \u001b[0;32mif\u001b[0m \u001b[0mself\u001b[0m\u001b[0;34m.\u001b[0m\u001b[0m_index\u001b[0m \u001b[0;34m==\u001b[0m \u001b[0mself\u001b[0m\u001b[0;34m.\u001b[0m\u001b[0m_length\u001b[0m\u001b[0;34m:\u001b[0m\u001b[0;34m\u001b[0m\u001b[0;34m\u001b[0m\u001b[0m\n\u001b[1;32m    736\u001b[0m                     \u001b[0;32mraise\u001b[0m \u001b[0mStopIteration\u001b[0m \u001b[0;32mfrom\u001b[0m \u001b[0;32mNone\u001b[0m\u001b[0;34m\u001b[0m\u001b[0;34m\u001b[0m\u001b[0m\n\u001b[0;32m--> 737\u001b[0;31m                 \u001b[0mself\u001b[0m\u001b[0;34m.\u001b[0m\u001b[0m_cond\u001b[0m\u001b[0;34m.\u001b[0m\u001b[0mwait\u001b[0m\u001b[0;34m(\u001b[0m\u001b[0mtimeout\u001b[0m\u001b[0;34m)\u001b[0m\u001b[0;34m\u001b[0m\u001b[0;34m\u001b[0m\u001b[0m\n\u001b[0m\u001b[1;32m    738\u001b[0m                 \u001b[0;32mtry\u001b[0m\u001b[0;34m:\u001b[0m\u001b[0;34m\u001b[0m\u001b[0;34m\u001b[0m\u001b[0m\n\u001b[1;32m    739\u001b[0m                     \u001b[0mitem\u001b[0m \u001b[0;34m=\u001b[0m \u001b[0mself\u001b[0m\u001b[0;34m.\u001b[0m\u001b[0m_items\u001b[0m\u001b[0;34m.\u001b[0m\u001b[0mpopleft\u001b[0m\u001b[0;34m(\u001b[0m\u001b[0;34m)\u001b[0m\u001b[0;34m\u001b[0m\u001b[0;34m\u001b[0m\u001b[0m\n",
      "\u001b[0;32m/Library/Frameworks/Python.framework/Versions/3.7/lib/python3.7/threading.py\u001b[0m in \u001b[0;36mwait\u001b[0;34m(self, timeout)\u001b[0m\n\u001b[1;32m    294\u001b[0m         \u001b[0;32mtry\u001b[0m\u001b[0;34m:\u001b[0m    \u001b[0;31m# restore state no matter what (e.g., KeyboardInterrupt)\u001b[0m\u001b[0;34m\u001b[0m\u001b[0;34m\u001b[0m\u001b[0m\n\u001b[1;32m    295\u001b[0m             \u001b[0;32mif\u001b[0m \u001b[0mtimeout\u001b[0m \u001b[0;32mis\u001b[0m \u001b[0;32mNone\u001b[0m\u001b[0;34m:\u001b[0m\u001b[0;34m\u001b[0m\u001b[0;34m\u001b[0m\u001b[0m\n\u001b[0;32m--> 296\u001b[0;31m                 \u001b[0mwaiter\u001b[0m\u001b[0;34m.\u001b[0m\u001b[0macquire\u001b[0m\u001b[0;34m(\u001b[0m\u001b[0;34m)\u001b[0m\u001b[0;34m\u001b[0m\u001b[0;34m\u001b[0m\u001b[0m\n\u001b[0m\u001b[1;32m    297\u001b[0m                 \u001b[0mgotit\u001b[0m \u001b[0;34m=\u001b[0m \u001b[0;32mTrue\u001b[0m\u001b[0;34m\u001b[0m\u001b[0;34m\u001b[0m\u001b[0m\n\u001b[1;32m    298\u001b[0m             \u001b[0;32melse\u001b[0m\u001b[0;34m:\u001b[0m\u001b[0;34m\u001b[0m\u001b[0;34m\u001b[0m\u001b[0m\n",
      "\u001b[0;31mKeyboardInterrupt\u001b[0m: "
     ]
    }
   ],
   "source": [
    "converted = []\n",
    "with mp.Pool(processes=3) as p:\n",
    "        with tqdm.tqdm(total=num_processed_samples) as pbar:\n",
    "            for i, _ in enumerate(p.imap_unordered(convert2, processed_samples)):\n",
    "                converted.append(_)\n",
    "                pbar.update()"
   ]
  },
  {
   "cell_type": "code",
   "execution_count": null,
   "metadata": {},
   "outputs": [],
   "source": [
    "with \n",
    "json.dump()"
   ]
  }
 ],
 "metadata": {
  "kernelspec": {
   "display_name": "Python 3",
   "language": "python",
   "name": "python3"
  },
  "language_info": {
   "codemirror_mode": {
    "name": "ipython",
    "version": 3
   },
   "file_extension": ".py",
   "mimetype": "text/x-python",
   "name": "python",
   "nbconvert_exporter": "python",
   "pygments_lexer": "ipython3",
   "version": "3.7.2"
  }
 },
 "nbformat": 4,
 "nbformat_minor": 4
}
