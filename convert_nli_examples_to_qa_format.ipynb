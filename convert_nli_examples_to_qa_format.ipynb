{
 "cells": [
  {
   "cell_type": "code",
   "execution_count": 1,
   "metadata": {},
   "outputs": [],
   "source": [
    "from pathlib import Path\n",
    "from qa2nli.qa_readers import race \n",
    "import tqdm\n",
    "from typing import *\n",
    "from joblib import delayed, Parallel\n",
    "import json"
   ]
  },
  {
   "cell_type": "code",
   "execution_count": 2,
   "metadata": {},
   "outputs": [],
   "source": [
    "_set = 'train'\n",
    "nli_data = Path('.data/RACE/set1/nli_{}.json'.format(_set))\n",
    "output_path = Path('.data/RACE/set1/nli_in_qa_format_{}.json'.format(_set))"
   ]
  },
  {
   "cell_type": "code",
   "execution_count": 3,
   "metadata": {},
   "outputs": [],
   "source": [
    "#load converted nli data\n",
    "with open(nli_data) as f:\n",
    "    nli_samples = json.load(f)"
   ]
  },
  {
   "cell_type": "code",
   "execution_count": 4,
   "metadata": {},
   "outputs": [],
   "source": [
    "nli_in_qa_format = {}\n",
    "for nli_sample in nli_samples:\n",
    "    filename, q_number, opt = nli_sample['id'].split('_')\n",
    "    q_id = ('_').join([filename, q_number])\n",
    "    qa_format_sample = nli_in_qa_format.get(q_id, {'id': q_id})\n",
    "    if len(qa_format_sample) ==1:\n",
    "        qa_format_sample['premise'] = nli_sample['premise']\n",
    "        qa_format_sample['hypothesis_options'] = [nli_sample['hypothesis']]\n",
    "        qa_format_sample['one_hot_label'] = [int(nli_sample['label'])]\n",
    "        nli_in_qa_format[q_id] = qa_format_sample\n",
    "    else:\n",
    "        qa_format_sample['hypothesis_options'].append(nli_sample['hypothesis'])\n",
    "        qa_format_sample['one_hot_label'].append(int(nli_sample['label']))\n",
    "    \n",
    "    "
   ]
  },
  {
   "cell_type": "code",
   "execution_count": 5,
   "metadata": {},
   "outputs": [
    {
     "data": {
      "text/plain": [
       "44890"
      ]
     },
     "execution_count": 5,
     "metadata": {},
     "output_type": "execute_result"
    }
   ],
   "source": [
    "len(nli_in_qa_format)"
   ]
  },
  {
   "cell_type": "code",
   "execution_count": 6,
   "metadata": {},
   "outputs": [
    {
     "data": {
      "text/plain": [
       "44890"
      ]
     },
     "execution_count": 6,
     "metadata": {},
     "output_type": "execute_result"
    }
   ],
   "source": [
    "len(nli_samples)//4"
   ]
  },
  {
   "cell_type": "code",
   "execution_count": 7,
   "metadata": {},
   "outputs": [],
   "source": [
    "# add another label field\n",
    "for idx, sample in nli_in_qa_format.items():\n",
    "    sample['label'] = sample['one_hot_label'].index(1)"
   ]
  },
  {
   "cell_type": "code",
   "execution_count": 8,
   "metadata": {},
   "outputs": [],
   "source": [
    "with open(output_path, 'w') as f:\n",
    "    json.dump(list(nli_in_qa_format.values()), f)"
   ]
  },
  {
   "cell_type": "code",
   "execution_count": null,
   "metadata": {},
   "outputs": [],
   "source": []
  }
 ],
 "metadata": {
  "kernelspec": {
   "display_name": "Python 3",
   "language": "python",
   "name": "python3"
  },
  "language_info": {
   "codemirror_mode": {
    "name": "ipython",
    "version": 3
   },
   "file_extension": ".py",
   "mimetype": "text/x-python",
   "name": "python",
   "nbconvert_exporter": "python",
   "pygments_lexer": "ipython3",
   "version": "3.7.2"
  }
 },
 "nbformat": 4,
 "nbformat_minor": 4
}
