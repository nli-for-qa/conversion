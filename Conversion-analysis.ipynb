{
 "cells": [
  {
   "cell_type": "code",
   "execution_count": 1,
   "metadata": {},
   "outputs": [],
   "source": [
    "%load_ext autoreload\n",
    "%autoreload 2\n",
    "from spacy_stanfordnlp import StanfordNLPLanguage\n",
    "import stanfordnlp\n",
    "from copy import deepcopy\n",
    "from spacy_conll import ConllFormatter\n",
    "from pathlib import Path\n",
    "from qa2nli.qa_readers.race import read_data as race_read_data\n",
    "from qa2nli.qa_readers.race import process_samples_lazy\n",
    "from rule import Question, AnswerSpan\n",
    "from conllu import parse\n",
    "from sacremoses import MosesTokenizer, MosesDetokenizer\n",
    "import tqdm\n",
    "import multiprocessing as mp\n",
    "from typing import *"
   ]
  },
  {
   "cell_type": "code",
   "execution_count": 2,
   "metadata": {},
   "outputs": [],
   "source": [
    "#stanfordnlp.download('en')\n",
    "# Config\n",
    "input_path = Path('dev_has_following.json')\n",
    "output_path = Path('.data/RACE/converted_dev.json')"
   ]
  },
  {
   "cell_type": "code",
   "execution_count": 3,
   "metadata": {},
   "outputs": [
    {
     "name": "stdout",
     "output_type": "stream",
     "text": [
      "Use device: cpu\n",
      "---\n",
      "Loading: tokenize\n",
      "With settings: \n",
      "{'model_path': '/Users/dhruv/stanfordnlp_resources/en_ewt_models/en_ewt_tokenizer.pt', 'lang': 'en', 'shorthand': 'en_ewt', 'mode': 'predict'}\n",
      "---\n",
      "Loading: pos\n",
      "With settings: \n",
      "{'model_path': '/Users/dhruv/stanfordnlp_resources/en_ewt_models/en_ewt_tagger.pt', 'pretrain_path': '/Users/dhruv/stanfordnlp_resources/en_ewt_models/en_ewt.pretrain.pt', 'lang': 'en', 'shorthand': 'en_ewt', 'mode': 'predict'}\n",
      "---\n",
      "Loading: lemma\n",
      "With settings: \n",
      "{'model_path': '/Users/dhruv/stanfordnlp_resources/en_ewt_models/en_ewt_lemmatizer.pt', 'lang': 'en', 'shorthand': 'en_ewt', 'mode': 'predict'}\n",
      "Building an attentional Seq2Seq model...\n",
      "Using a Bi-LSTM encoder\n",
      "Using soft attention for LSTM.\n",
      "Finetune all embeddings.\n",
      "[Running seq2seq lemmatizer with edit classifier]\n",
      "---\n",
      "Loading: depparse\n",
      "With settings: \n",
      "{'model_path': '/Users/dhruv/stanfordnlp_resources/en_ewt_models/en_ewt_parser.pt', 'pretrain_path': '/Users/dhruv/stanfordnlp_resources/en_ewt_models/en_ewt.pretrain.pt', 'lang': 'en', 'shorthand': 'en_ewt', 'mode': 'predict'}\n",
      "Done loading processors!\n",
      "---\n"
     ]
    }
   ],
   "source": [
    "snlp = stanfordnlp.Pipeline(lang='en')\n",
    "nlp = StanfordNLPLanguage(snlp)\n",
    "conllformatter = ConllFormatter(nlp)\n",
    "nlp.add_pipe(conllformatter, last=True)\n",
    "detokenizer = MosesDetokenizer()"
   ]
  },
  {
   "cell_type": "code",
   "execution_count": 4,
   "metadata": {},
   "outputs": [],
   "source": [
    "# load data\n",
    "with open(input_path) as f:\n",
    "    samples = json.load(f)"
   ]
  },
  {
   "cell_type": "code",
   "execution_count": 5,
   "metadata": {},
   "outputs": [],
   "source": [
    "import warnings\n",
    "warnings.filterwarnings(\"ignore\")\n",
    "def convert(qa_samples: List[Dict]):\n",
    "    total_questions=0\n",
    "    num_converted_questions = 0\n",
    "    num_nli_samples = 0\n",
    "    invalid_questions = 0\n",
    "    invalid_options = 0 \n",
    "    failed_questions = []\n",
    "    nli_samples = []\n",
    "    failed_cases = []\n",
    "    for qa_sample in tqdm.tqdm(qa_samples):\n",
    "        total_questions+=1\n",
    "        q_doc = nlp(qa_sample['question'])\n",
    "        a_doc = nlp(qa_sample['answer'])\n",
    "        q_conll_dict = parse(q_doc._.conll_str)[0].tokens\n",
    "        a_conll_dict = parse(a_doc._.conll_str)[0].tokens\n",
    "        positive_sample = {}\n",
    "        q = Question(deepcopy(q_conll_dict))\n",
    "        if not q.isvalid:\n",
    "            invalid_questions+=1\n",
    "            failed_cases.append(qa_sample['id'])\n",
    "            continue\n",
    "        a = AnswerSpan(a_conll_dict)\n",
    "        if not a.isvalid:\n",
    "            failed_cases.append(qa_sample['id'] + '_1')\n",
    "            invalid_options+=1\n",
    "        else:\n",
    "            q.insert_answer_default(a)\n",
    "            hypo = detokenizer.detokenize(q.format_declr(), return_str=True)\n",
    "            positive_sample['premise'] = qa_sample['article']\n",
    "            positive_sample['hypothesis'] = hypo\n",
    "            positive_sample['label'] = 1\n",
    "            positive_sample['id'] = qa_sample['id'] + '_1'\n",
    "        if positive_sample:\n",
    "            nli_samples.append(positive_sample)\n",
    "        for i, opt in enumerate(qa_sample['other_options']):\n",
    "            q = Question(deepcopy(q_conll_dict))\n",
    "            o_conll_dict = parse(nlp(opt)._.conll_str)[0].tokens\n",
    "            o = AnswerSpan(o_conll_dict)\n",
    "            negative_sample = {}\n",
    "            if not o.isvalid:\n",
    "                invalid_options+=1\n",
    "                failed_cases.append(qa_sample['id'] + '_' + str(i+1))\n",
    "                continue\n",
    "            else:\n",
    "                q.insert_answer_default(o)\n",
    "                negative_sample['premise'] = qa_sample['article']\n",
    "                negative_sample['hypothesis'] = detokenizer.detokenize(q.format_declr(), return_str=True)\n",
    "                negative_sample['label'] = 0\n",
    "                negative_sample['id'] = qa_sample['id'] + '_' + str(i+1)\n",
    "            if negative_sample:\n",
    "                nli_samples.append(negative_sample)\n",
    "        num_converted_questions+=1\n",
    "        return {'nli_samples': nli_samples, 'failed_questions': failed_questions, 'total_questions': total_questions,\n",
    "               'failed_cases': failed_cases}\n",
    "\n",
    "\n"
   ]
  },
  {
   "cell_type": "code",
   "execution_count": 29,
   "metadata": {},
   "outputs": [],
   "source": [
    "def convert2(qa_sample: Dict):\n",
    "    q_doc = nlp(qa_sample['question'])\n",
    "    a_doc = nlp(qa_sample['option'])\n",
    "    q_conll_dict = parse(q_doc._.conll_str)[0].tokens\n",
    "    a_conll_dict = parse(a_doc._.conll_str)[0].tokens\n",
    "    qa_sample.update({'valid_question': False, 'valid_option': False, 'conversion_success': False})\n",
    "    q = Question(deepcopy(q_conll_dict))\n",
    "    if not q.isvalid:\n",
    "        qa_sample['hypothesis'] = \"\"\n",
    "        return qa_sample\n",
    "    else:\n",
    "        qa_sample['valid_question'] = True\n",
    "    a = AnswerSpan(a_conll_dict)\n",
    "    if not a.isvalid:\n",
    "        qa_sample['hypothesis'] = \"\"\n",
    "        return qa_sample\n",
    "    else:\n",
    "        q.insert_answer_default(a)\n",
    "        qa_sample['hypothesis'] = detokenizer.detokenize(q.format_declr(), return_str=True)\n",
    "    return qa_sample"
   ]
  },
  {
   "cell_type": "code",
   "execution_count": 7,
   "metadata": {},
   "outputs": [
    {
     "name": "stdout",
     "output_type": "stream",
     "text": [
      "> /Users/dhruv/UnsyncedDocuments/IBM_project/qa-to-nli/rule.py(124)__init__()\n",
      "-> if self.isvalid:\n",
      "(Pdb) c\n",
      "> /Users/dhruv/UnsyncedDocuments/IBM_project/qa-to-nli/rule.py(208)_wh_true_false()\n",
      "-> neg = self._get_children(root, ['advmod', 'neg'], 'left')\n",
      "(Pdb) c\n",
      "> /Users/dhruv/UnsyncedDocuments/IBM_project/qa-to-nli/rule.py(464)get_answer_pos()\n",
      "-> if self._answer_pos is not None:\n",
      "(Pdb) c\n"
     ]
    }
   ],
   "source": [
    "converted = convert2(samples[0])"
   ]
  },
  {
   "cell_type": "code",
   "execution_count": 8,
   "metadata": {},
   "outputs": [
    {
     "data": {
      "text/plain": [
       "{'id': 'high939.txt_0_B',\n",
       " 'premise': \"All Eskimos live most of their lives close to sea or fresh water. They may follow game inland for several hundred miles, but they always return to the shores of rivers, lakes, or seas. Eskimo land has a bare look. Large rocks, pebbles, and sand cover much of the surface. Plants called lichen   grow on the rocks, and where there is enough soil, grass, flowers, and even small bushes manage to live. No trees can grow on Eskimo land, so geographers sometimes call it the Arctic plains. There are some animals in Eskimo land, such as rabbits, which eat the plants. Other animals, like the white fox and the gray wolf, eat the rabbits. The Eskimo is a meat-eater, too, and may even eat a wolf when food is scarce.\\nThe Eskimo year has two main parts: a long, cold winter and a short, cool summer. Spring and fall are almost too short to be noticed. Summer is the best time, as food is usually plentiful. But it is also the time when Eskimos are very busy. Winter is never far away, and the men must bring home extra meat for the women to prepare and store, for seldom can enough animals be killed in winter to feed a family.\\nThe Far North is sometimes called the land of the midnight sun. This is true in the middle of summer, for between April 21st and August 21st the sun never sets in Northern Greenland. But in midwinter the Far North is a land with no sunshine at all. Around Oct. 21st the Eskimos of Northern Greenland see the sun set directly south of them, and they don't see it again until February 22nd. All places on earth get about the same amount of daylight during a year. As a result, if summer is lighter, winter has to be darker.\\nWinter nights in the Far North are seldom _ . As in the rest of the world, the stars and moon provide a little light. The northern lights also help the Eskimo to see. And with the ground covered with snow, even a little light is reflected back to the Eskimo's eyes.\",\n",
       " 'question': 'Which of the following statements is NOT true?',\n",
       " 'option': 'Eskimos like to chase one another.',\n",
       " 'label': True,\n",
       " 'valid_question': True,\n",
       " 'valid_option': False,\n",
       " 'conversion_success': False,\n",
       " 'exception': False,\n",
       " 'hypothesis': 'Eskimos like to chase one another is NOT true',\n",
       " 'premise_length': 361,\n",
       " 'hypothesis_length': 11}"
      ]
     },
     "execution_count": 8,
     "metadata": {},
     "output_type": "execute_result"
    }
   ],
   "source": [
    "converted"
   ]
  },
  {
   "cell_type": "code",
   "execution_count": 32,
   "metadata": {},
   "outputs": [
    {
     "data": {
      "text/plain": [
       "{'id': 'high4783.txt_1_C',\n",
       " 'premise': 'An old problem is getting new attention in the United States--bullying. Recent cases included the tragic case of a 15-year-old girl whose family moved from Ireland. She hanged herself in Massachusetts following months of bullying. Her parents criticized her school for failing to protect her. Officials have brought criminal charges against several teenagers.\\nJudy Kuczynski is president of an anti-bullying group called Bully Police USA. Her daughter Tina was also the victim of severe bullying starting in middle school in the state of Minnesota. She said,\"Our daughter was a very outgoing child. She was involved in all kinds of things and had lots of friends. And over a period of time her grades fell completely. She started having health issues. She couldn\\'t sleep. She wasn\\'t eating. She had terrible stomach pains and didn\\'t want to go to school.\"\\nBullying is defined as negative behavior repeated over time against the same person. It can involve physical violence, or it can be verbal--for example, insults or threats. Spreading lies about someone or excluding a person from a group is known as social or relational bullying.\\nAnd now there is cyber-bullying, which uses the Internet, e-mail or text messages. It has easy appeal for the bully because it does not involve face-to-face contact and it can be done at any time.\\nThe first serious research studies into bullying were done in Norway in the late 1970s. The latest government study in the United States was released last year. It found that about one-third of students age twelve to eighteen were bullied at school.\\nSusan Swearer is a psychologist at the University of Nebraska-Lincoln and co-director of the Bullying Research Network. She says schools should treat bullying as a mental health problem to get bullies and victims the help they need. She says bullying is connected to depression, anxiety and anti-social behavior and bullies are often victims themselves.',\n",
       " 'question': 'Which of the following is NOT bullying?',\n",
       " 'option': 'To isolate someone from friends.',\n",
       " 'label': False,\n",
       " 'valid_question': True,\n",
       " 'valid_option': False,\n",
       " 'conversion_success': False,\n",
       " 'exception': False,\n",
       " 'hypothesis': 'To isolate someone from friends is NOT bullying.',\n",
       " 'premise_length': 314,\n",
       " 'hypothesis_length': 9}"
      ]
     },
     "execution_count": 32,
     "metadata": {},
     "output_type": "execute_result"
    }
   ],
   "source": [
    "convert2(samples[209])"
   ]
  },
  {
   "cell_type": "code",
   "execution_count": 13,
   "metadata": {},
   "outputs": [
    {
     "name": "stderr",
     "output_type": "stream",
     "text": [
      "  4%|▍         | 850/19548 [01:16<27:58, 11.14it/s] Process ForkPoolWorker-10:\n",
      "\n"
     ]
    },
    {
     "ename": "KeyboardInterrupt",
     "evalue": "",
     "output_type": "error",
     "traceback": [
      "\u001b[0;31m---------------------------------------------------------------------------\u001b[0m",
      "\u001b[0;31mIndexError\u001b[0m                                Traceback (most recent call last)",
      "\u001b[0;32m/Library/Frameworks/Python.framework/Versions/3.7/lib/python3.7/multiprocessing/pool.py\u001b[0m in \u001b[0;36mnext\u001b[0;34m(self, timeout)\u001b[0m\n\u001b[1;32m    732\u001b[0m             \u001b[0;32mtry\u001b[0m\u001b[0;34m:\u001b[0m\u001b[0;34m\u001b[0m\u001b[0;34m\u001b[0m\u001b[0m\n\u001b[0;32m--> 733\u001b[0;31m                 \u001b[0mitem\u001b[0m \u001b[0;34m=\u001b[0m \u001b[0mself\u001b[0m\u001b[0;34m.\u001b[0m\u001b[0m_items\u001b[0m\u001b[0;34m.\u001b[0m\u001b[0mpopleft\u001b[0m\u001b[0;34m(\u001b[0m\u001b[0;34m)\u001b[0m\u001b[0;34m\u001b[0m\u001b[0;34m\u001b[0m\u001b[0m\n\u001b[0m\u001b[1;32m    734\u001b[0m             \u001b[0;32mexcept\u001b[0m \u001b[0mIndexError\u001b[0m\u001b[0;34m:\u001b[0m\u001b[0;34m\u001b[0m\u001b[0;34m\u001b[0m\u001b[0m\n",
      "\u001b[0;31mIndexError\u001b[0m: pop from an empty deque",
      "\nDuring handling of the above exception, another exception occurred:\n",
      "\u001b[0;31mKeyboardInterrupt\u001b[0m                         Traceback (most recent call last)",
      "\u001b[0;32m<ipython-input-13-1063e5be4b74>\u001b[0m in \u001b[0;36m<module>\u001b[0;34m\u001b[0m\n\u001b[1;32m      1\u001b[0m \u001b[0;32mwith\u001b[0m \u001b[0mmp\u001b[0m\u001b[0;34m.\u001b[0m\u001b[0mPool\u001b[0m\u001b[0;34m(\u001b[0m\u001b[0mprocesses\u001b[0m\u001b[0;34m=\u001b[0m\u001b[0;36m3\u001b[0m\u001b[0;34m)\u001b[0m \u001b[0;32mas\u001b[0m \u001b[0mp\u001b[0m\u001b[0;34m:\u001b[0m\u001b[0;34m\u001b[0m\u001b[0;34m\u001b[0m\u001b[0m\n\u001b[1;32m      2\u001b[0m         \u001b[0;32mwith\u001b[0m \u001b[0mtqdm\u001b[0m\u001b[0;34m.\u001b[0m\u001b[0mtqdm\u001b[0m\u001b[0;34m(\u001b[0m\u001b[0mtotal\u001b[0m\u001b[0;34m=\u001b[0m\u001b[0mnum_processed_samples\u001b[0m\u001b[0;34m)\u001b[0m \u001b[0;32mas\u001b[0m \u001b[0mpbar\u001b[0m\u001b[0;34m:\u001b[0m\u001b[0;34m\u001b[0m\u001b[0;34m\u001b[0m\u001b[0m\n\u001b[0;32m----> 3\u001b[0;31m             \u001b[0;32mfor\u001b[0m \u001b[0mi\u001b[0m\u001b[0;34m,\u001b[0m \u001b[0m_\u001b[0m \u001b[0;32min\u001b[0m \u001b[0menumerate\u001b[0m\u001b[0;34m(\u001b[0m\u001b[0mp\u001b[0m\u001b[0;34m.\u001b[0m\u001b[0mimap_unordered\u001b[0m\u001b[0;34m(\u001b[0m\u001b[0mconvert2\u001b[0m\u001b[0;34m,\u001b[0m \u001b[0mprocessed_samples\u001b[0m\u001b[0;34m)\u001b[0m\u001b[0;34m)\u001b[0m\u001b[0;34m:\u001b[0m\u001b[0;34m\u001b[0m\u001b[0;34m\u001b[0m\u001b[0m\n\u001b[0m\u001b[1;32m      4\u001b[0m                 \u001b[0mpbar\u001b[0m\u001b[0;34m.\u001b[0m\u001b[0mupdate\u001b[0m\u001b[0;34m(\u001b[0m\u001b[0;34m)\u001b[0m\u001b[0;34m\u001b[0m\u001b[0;34m\u001b[0m\u001b[0m\n",
      "\u001b[0;32m/Library/Frameworks/Python.framework/Versions/3.7/lib/python3.7/multiprocessing/pool.py\u001b[0m in \u001b[0;36mnext\u001b[0;34m(self, timeout)\u001b[0m\n\u001b[1;32m    735\u001b[0m                 \u001b[0;32mif\u001b[0m \u001b[0mself\u001b[0m\u001b[0;34m.\u001b[0m\u001b[0m_index\u001b[0m \u001b[0;34m==\u001b[0m \u001b[0mself\u001b[0m\u001b[0;34m.\u001b[0m\u001b[0m_length\u001b[0m\u001b[0;34m:\u001b[0m\u001b[0;34m\u001b[0m\u001b[0;34m\u001b[0m\u001b[0m\n\u001b[1;32m    736\u001b[0m                     \u001b[0;32mraise\u001b[0m \u001b[0mStopIteration\u001b[0m \u001b[0;32mfrom\u001b[0m \u001b[0;32mNone\u001b[0m\u001b[0;34m\u001b[0m\u001b[0;34m\u001b[0m\u001b[0m\n\u001b[0;32m--> 737\u001b[0;31m                 \u001b[0mself\u001b[0m\u001b[0;34m.\u001b[0m\u001b[0m_cond\u001b[0m\u001b[0;34m.\u001b[0m\u001b[0mwait\u001b[0m\u001b[0;34m(\u001b[0m\u001b[0mtimeout\u001b[0m\u001b[0;34m)\u001b[0m\u001b[0;34m\u001b[0m\u001b[0;34m\u001b[0m\u001b[0m\n\u001b[0m\u001b[1;32m    738\u001b[0m                 \u001b[0;32mtry\u001b[0m\u001b[0;34m:\u001b[0m\u001b[0;34m\u001b[0m\u001b[0;34m\u001b[0m\u001b[0m\n\u001b[1;32m    739\u001b[0m                     \u001b[0mitem\u001b[0m \u001b[0;34m=\u001b[0m \u001b[0mself\u001b[0m\u001b[0;34m.\u001b[0m\u001b[0m_items\u001b[0m\u001b[0;34m.\u001b[0m\u001b[0mpopleft\u001b[0m\u001b[0;34m(\u001b[0m\u001b[0;34m)\u001b[0m\u001b[0;34m\u001b[0m\u001b[0;34m\u001b[0m\u001b[0m\n",
      "\u001b[0;32m/Library/Frameworks/Python.framework/Versions/3.7/lib/python3.7/threading.py\u001b[0m in \u001b[0;36mwait\u001b[0;34m(self, timeout)\u001b[0m\n\u001b[1;32m    294\u001b[0m         \u001b[0;32mtry\u001b[0m\u001b[0;34m:\u001b[0m    \u001b[0;31m# restore state no matter what (e.g., KeyboardInterrupt)\u001b[0m\u001b[0;34m\u001b[0m\u001b[0;34m\u001b[0m\u001b[0m\n\u001b[1;32m    295\u001b[0m             \u001b[0;32mif\u001b[0m \u001b[0mtimeout\u001b[0m \u001b[0;32mis\u001b[0m \u001b[0;32mNone\u001b[0m\u001b[0;34m:\u001b[0m\u001b[0;34m\u001b[0m\u001b[0;34m\u001b[0m\u001b[0m\n\u001b[0;32m--> 296\u001b[0;31m                 \u001b[0mwaiter\u001b[0m\u001b[0;34m.\u001b[0m\u001b[0macquire\u001b[0m\u001b[0;34m(\u001b[0m\u001b[0;34m)\u001b[0m\u001b[0;34m\u001b[0m\u001b[0;34m\u001b[0m\u001b[0m\n\u001b[0m\u001b[1;32m    297\u001b[0m                 \u001b[0mgotit\u001b[0m \u001b[0;34m=\u001b[0m \u001b[0;32mTrue\u001b[0m\u001b[0;34m\u001b[0m\u001b[0;34m\u001b[0m\u001b[0m\n\u001b[1;32m    298\u001b[0m             \u001b[0;32melse\u001b[0m\u001b[0;34m:\u001b[0m\u001b[0;34m\u001b[0m\u001b[0;34m\u001b[0m\u001b[0m\n",
      "\u001b[0;31mKeyboardInterrupt\u001b[0m: "
     ]
    }
   ],
   "source": [
    "converted = []\n",
    "with mp.Pool(processes=3) as p:\n",
    "        with tqdm.tqdm(total=num_processed_samples) as pbar:\n",
    "            for i, _ in enumerate(p.imap_unordered(convert2, processed_samples)):\n",
    "                converted.append(_)\n",
    "                pbar.update()"
   ]
  },
  {
   "cell_type": "code",
   "execution_count": null,
   "metadata": {},
   "outputs": [],
   "source": []
  }
 ],
 "metadata": {
  "kernelspec": {
   "display_name": "Python 3",
   "language": "python",
   "name": "python3"
  },
  "language_info": {
   "codemirror_mode": {
    "name": "ipython",
    "version": 3
   },
   "file_extension": ".py",
   "mimetype": "text/x-python",
   "name": "python",
   "nbconvert_exporter": "python",
   "pygments_lexer": "ipython3",
   "version": "3.7.2"
  }
 },
 "nbformat": 4,
 "nbformat_minor": 4
}
