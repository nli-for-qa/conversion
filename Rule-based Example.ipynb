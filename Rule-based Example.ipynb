{
 "cells": [
  {
   "cell_type": "code",
   "execution_count": 22,
   "metadata": {},
   "outputs": [],
   "source": [
    "from copy import deepcopy\n",
    "import codecs\n",
    "from nltk.tokenize.moses import MosesDetokenizer\n",
    "from conllu import parse\n",
    "from rule import Question, AnswerSpan\n",
    "import pattern"
   ]
  },
  {
   "cell_type": "code",
   "execution_count": 48,
   "metadata": {
    "collapsed": true
   },
   "outputs": [],
   "source": [
    "detokenizer = MosesDetokenizer()"
   ]
  },
  {
   "cell_type": "markdown",
   "metadata": {},
   "source": [
    "## Parse conllu file"
   ]
  },
  {
   "cell_type": "code",
   "execution_count": 44,
   "metadata": {},
   "outputs": [
    {
     "name": "stdout",
     "output_type": "stream",
     "text": [
      "Parsing conllu file...\n"
     ]
    }
   ],
   "source": [
    "print('Parsing conllu file...')\n",
    "with codecs.open('examples.conllu', 'r', encoding='utf-8') as f:\n",
    "    conllu_file = parse(f.read())"
   ]
  },
  {
   "cell_type": "code",
   "execution_count": 45,
   "metadata": {},
   "outputs": [],
   "source": [
    "# Creating dict\n",
    "ids = range(int(len(conllu_file)/2))\n",
    "examples = {}\n",
    "count = 0\n",
    "for i, s in enumerate(conllu_file):\n",
    "    if i % 2 == 0:\n",
    "        examples[ids[count]] = s\n",
    "    else:\n",
    "        examples[str(ids[count])+'_answer'] = s\n",
    "        count +=1"
   ]
  },
  {
   "cell_type": "markdown",
   "metadata": {},
   "source": [
    "## Perform transformation"
   ]
  },
  {
   "cell_type": "code",
   "execution_count": 51,
   "metadata": {
    "collapsed": true
   },
   "outputs": [],
   "source": [
    "def qa2d(idx):\n",
    "    q = Question(deepcopy(examples[idx].tokens))\n",
    "    if not q.isvalid:\n",
    "        print(\"Question {} is not valid.\".format(idx))\n",
    "        return ''\n",
    "    a = AnswerSpan(deepcopy(examples[str(idx)+'_answer'].tokens))\n",
    "    if not a.isvalid:\n",
    "        print(\"Answer span {} is not valid.\".format(idx))\n",
    "        return ''\n",
    "    q.insert_answer_default(a)\n",
    "    return detokenizer.detokenize(q.format_declr(), return_str=True)"
   ]
  },
  {
   "cell_type": "code",
   "execution_count": 61,
   "metadata": {
    "collapsed": true
   },
   "outputs": [],
   "source": [
    "def print_sentence(idx):\n",
    "    return detokenizer.detokenize([examples[idx].tokens[i]['form'] for i in range(len(examples[idx].tokens))], return_str=True)"
   ]
  },
  {
   "cell_type": "code",
   "execution_count": 63,
   "metadata": {},
   "outputs": [
    {
     "name": "stdout",
     "output_type": "stream",
     "text": [
      "Transforming 3 examples.\n",
      "What is the first Indian text to mention iron?\n",
      "The first Indian text to mention iron is Atharvaveda.\n",
      "----------\n",
      "Which artist made Bobby Troup's song famous?\n",
      "Nat King Cole made Bobby Troup's song famous.\n",
      "----------\n",
      "What style of music was Gary Numan associated with?\n",
      "Gary Numan was associated with synthpop.\n",
      "----------\n"
     ]
    }
   ],
   "source": [
    "total = int(len(examples.keys())/2)\n",
    "print(\"Transforming {} examples.\".format(total))\n",
    "for i in range(total):\n",
    "    out = qa2d(i)\n",
    "    print(print_sentence(i))\n",
    "    if out != '':\n",
    "        print(out)\n",
    "    print('----------')\n",
    " "
   ]
  },
  {
   "cell_type": "code",
   "execution_count": null,
   "metadata": {
    "collapsed": true
   },
   "outputs": [],
   "source": []
  },
  {
   "cell_type": "code",
   "execution_count": null,
   "metadata": {
    "collapsed": true
   },
   "outputs": [],
   "source": []
  }
 ],
 "metadata": {
  "kernelspec": {
   "display_name": "Python 3",
   "language": "python",
   "name": "python3"
  },
  "language_info": {
   "codemirror_mode": {
    "name": "ipython",
    "version": 3
   },
   "file_extension": ".py",
   "mimetype": "text/x-python",
   "name": "python",
   "nbconvert_exporter": "python",
   "pygments_lexer": "ipython3",
   "version": "3.7.2"
  }
 },
 "nbformat": 4,
 "nbformat_minor": 2
}
